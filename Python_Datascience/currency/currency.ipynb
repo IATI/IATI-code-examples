{
 "cells": [
  {
   "cell_type": "markdown",
   "metadata": {},
   "source": [
    "# IATI Currency Converion with Pandas"
   ]
  },
  {
   "cell_type": "code",
   "execution_count": 2,
   "metadata": {},
   "outputs": [],
   "source": [
    "import pandas as pd\n",
    "import numpy as np"
   ]
  },
  {
   "cell_type": "code",
   "execution_count": 19,
   "metadata": {},
   "outputs": [
    {
     "data": {
      "text/html": [
       "<div>\n",
       "<style scoped>\n",
       "    .dataframe tbody tr th:only-of-type {\n",
       "        vertical-align: middle;\n",
       "    }\n",
       "\n",
       "    .dataframe tbody tr th {\n",
       "        vertical-align: top;\n",
       "    }\n",
       "\n",
       "    .dataframe thead th {\n",
       "        text-align: right;\n",
       "    }\n",
       "</style>\n",
       "<table border=\"1\" class=\"dataframe\">\n",
       "  <thead>\n",
       "    <tr style=\"text-align: right;\">\n",
       "      <th></th>\n",
       "      <th>Date</th>\n",
       "      <th>Currency</th>\n",
       "      <th>Rate</th>\n",
       "    </tr>\n",
       "  </thead>\n",
       "  <tbody>\n",
       "    <tr>\n",
       "      <th>509642</th>\n",
       "      <td>2020-10-01</td>\n",
       "      <td>GBP</td>\n",
       "      <td>1.28365</td>\n",
       "    </tr>\n",
       "  </tbody>\n",
       "</table>\n",
       "</div>"
      ],
      "text/plain": [
       "             Date Currency     Rate\n",
       "509642 2020-10-01      GBP  1.28365"
      ]
     },
     "execution_count": 19,
     "metadata": {},
     "output_type": "execute_result"
    }
   ],
   "source": [
    "# Exchange Rate Data\n",
    "\n",
    "exchange_df = pd.read_csv(\"../../data/rates_06_07_2022.csv\", dtype={\"Rate\": np.float64 }, parse_dates=[\"Date\"])\n",
    "\n",
    "exchange_df.head()\n",
    "\n",
    "exchange_df[(exchange_df[\"Date\"] == pd.Timestamp('2020-10-01')) & (exchange_df[\"Currency\"] == 'GBP')]"
   ]
  },
  {
   "cell_type": "code",
   "execution_count": 4,
   "metadata": {},
   "outputs": [],
   "source": [
    "# Currency Conversion Function\n",
    "def convert_currency(date, currency, value):\n",
    "    rates = exchange_df[(exchange_df[\"Date\"] == date) & (exchange_df[\"Currency\"] == currency)]\n",
    "    if len(rates) > 0:\n",
    "        exchange_rate = exchange_df.at[rates.index[0], \"Rate\"]\n",
    "        if exchange_rate:\n",
    "            return exchange_rate * value\n",
    "    return np.NaN"
   ]
  },
  {
   "cell_type": "code",
   "execution_count": 14,
   "metadata": {},
   "outputs": [
    {
     "name": "stdout",
     "output_type": "stream",
     "text": [
      "10\n"
     ]
    },
    {
     "data": {
      "text/html": [
       "<div>\n",
       "<style scoped>\n",
       "    .dataframe tbody tr th:only-of-type {\n",
       "        vertical-align: middle;\n",
       "    }\n",
       "\n",
       "    .dataframe tbody tr th {\n",
       "        vertical-align: top;\n",
       "    }\n",
       "\n",
       "    .dataframe thead th {\n",
       "        text-align: right;\n",
       "    }\n",
       "</style>\n",
       "<table border=\"1\" class=\"dataframe\">\n",
       "  <thead>\n",
       "    <tr style=\"text-align: right;\">\n",
       "      <th></th>\n",
       "      <th>currency_to_use</th>\n",
       "      <th>date_to_use</th>\n",
       "      <th>transaction_value</th>\n",
       "      <th>transaction_value_USD</th>\n",
       "    </tr>\n",
       "  </thead>\n",
       "  <tbody>\n",
       "    <tr>\n",
       "      <th>0</th>\n",
       "      <td>DKK</td>\n",
       "      <td>2021-11-10</td>\n",
       "      <td>200000.00</td>\n",
       "      <td>1.287000e+06</td>\n",
       "    </tr>\n",
       "    <tr>\n",
       "      <th>1</th>\n",
       "      <td>GBP</td>\n",
       "      <td>2020-10-26</td>\n",
       "      <td>510561.88</td>\n",
       "      <td>6.665385e+05</td>\n",
       "    </tr>\n",
       "    <tr>\n",
       "      <th>2</th>\n",
       "      <td>GBP</td>\n",
       "      <td>2020-10-01</td>\n",
       "      <td>104965.64</td>\n",
       "      <td>1.347391e+05</td>\n",
       "    </tr>\n",
       "    <tr>\n",
       "      <th>3</th>\n",
       "      <td>EUR</td>\n",
       "      <td>2020-12-31</td>\n",
       "      <td>8045.00</td>\n",
       "      <td>9.857270e+03</td>\n",
       "    </tr>\n",
       "    <tr>\n",
       "      <th>4</th>\n",
       "      <td>EUR</td>\n",
       "      <td>2015-01-01</td>\n",
       "      <td>210.00</td>\n",
       "      <td>2.540118e+02</td>\n",
       "    </tr>\n",
       "    <tr>\n",
       "      <th>5</th>\n",
       "      <td>EUR</td>\n",
       "      <td>2015-12-31</td>\n",
       "      <td>210.00</td>\n",
       "      <td>2.286270e+02</td>\n",
       "    </tr>\n",
       "    <tr>\n",
       "      <th>6</th>\n",
       "      <td>USD</td>\n",
       "      <td>2022-01-01</td>\n",
       "      <td>249178.00</td>\n",
       "      <td>2.491780e+05</td>\n",
       "    </tr>\n",
       "    <tr>\n",
       "      <th>7</th>\n",
       "      <td>USD</td>\n",
       "      <td>2019-01-01</td>\n",
       "      <td>541059.00</td>\n",
       "      <td>5.410590e+05</td>\n",
       "    </tr>\n",
       "    <tr>\n",
       "      <th>8</th>\n",
       "      <td>USD</td>\n",
       "      <td>2020-01-01</td>\n",
       "      <td>8118514.00</td>\n",
       "      <td>8.118514e+06</td>\n",
       "    </tr>\n",
       "    <tr>\n",
       "      <th>9</th>\n",
       "      <td>USD</td>\n",
       "      <td>2021-01-01</td>\n",
       "      <td>3599264.00</td>\n",
       "      <td>3.599264e+06</td>\n",
       "    </tr>\n",
       "  </tbody>\n",
       "</table>\n",
       "</div>"
      ],
      "text/plain": [
       "  currency_to_use date_to_use  transaction_value  transaction_value_USD\n",
       "0             DKK  2021-11-10          200000.00           1.287000e+06\n",
       "1             GBP  2020-10-26          510561.88           6.665385e+05\n",
       "2             GBP  2020-10-01          104965.64           1.347391e+05\n",
       "3             EUR  2020-12-31            8045.00           9.857270e+03\n",
       "4             EUR  2015-01-01             210.00           2.540118e+02\n",
       "5             EUR  2015-12-31             210.00           2.286270e+02\n",
       "6             USD  2022-01-01          249178.00           2.491780e+05\n",
       "7             USD  2019-01-01          541059.00           5.410590e+05\n",
       "8             USD  2020-01-01         8118514.00           8.118514e+06\n",
       "9             USD  2021-01-01         3599264.00           3.599264e+06"
      ]
     },
     "execution_count": 14,
     "metadata": {},
     "output_type": "execute_result"
    }
   ],
   "source": [
    "# Transaction Currency Conversion\n",
    "\n",
    "transaction_df = pd.read_csv(\"../../data/sample_transactions.csv\", dtype={\"transaction_value\": np.float64})\n",
    "\n",
    "# get column with currency to use for conversion, first choice is transaction_value_currency, with default_currency fallback\n",
    "transaction_df[\"currency_to_use\"] = transaction_df[\"transaction_value_currency\"].combine_first(transaction_df[\"default_currency\"])\n",
    "\n",
    "# get column with date to use for conversion, first choice is transaction_value_value_date, with transaction_transaction_date_iso_date fallback\n",
    "transaction_df[\"date_to_use\"] = transaction_df[\"transaction_value_value_date\"].combine_first(transaction_df[\"transaction_transaction_date_iso_date\"])\n",
    "\n",
    "# get only the date part of the date, not the time\n",
    "def conv_date(date):\n",
    "    just_date = date.split('T')[0]\n",
    "    return pd.Timestamp(just_date)\n",
    "\n",
    "transaction_df[\"date_to_use\"] = transaction_df[\"date_to_use\"].apply(lambda x: conv_date(x))\n",
    "\n",
    "transaction_df['transaction_value_USD'] = transaction_df.apply(lambda x: convert_currency(date=x[\"date_to_use\"],currency=x[\"currency_to_use\"], value = x[\"transaction_value\"]), axis=1)\n",
    "\n",
    "transaction_df[[\"currency_to_use\", \"date_to_use\", \"transaction_value\", \"transaction_value_USD\"]]"
   ]
  },
  {
   "cell_type": "code",
   "execution_count": 23,
   "metadata": {},
   "outputs": [],
   "source": [
    "# Transaction Tests\n",
    "\n",
    "assert transaction_df[\"transaction_value\"].iloc[2] == 104965.64, \"transaction_value 3rd row should be 104965.64\"\n",
    "assert transaction_df[\"transaction_value_USD\"].iloc[2] == 104965.64 * 1.28365 , \"transaction_value_USD 3rd row should be 104965.64 * 1.28365\"\n",
    "\n",
    "assert transaction_df[\"transaction_value\"].iloc[6] == transaction_df[\"transaction_value_USD\"].iloc[6], \"transaction_value for USD row 7 should equal transaction_value_USD\"\n"
   ]
  },
  {
   "cell_type": "code",
   "execution_count": null,
   "metadata": {},
   "outputs": [],
   "source": []
  }
 ],
 "metadata": {
  "kernelspec": {
   "display_name": "Python 3.9.0 64-bit ('3.9.0')",
   "language": "python",
   "name": "python3"
  },
  "language_info": {
   "codemirror_mode": {
    "name": "ipython",
    "version": 3
   },
   "file_extension": ".py",
   "mimetype": "text/x-python",
   "name": "python",
   "nbconvert_exporter": "python",
   "pygments_lexer": "ipython3",
   "version": "3.9.0"
  },
  "orig_nbformat": 4,
  "vscode": {
   "interpreter": {
    "hash": "33885de7d55cc3c794cefe790f185ac4906844c4339627b64445e0abc2acb7f7"
   }
  }
 },
 "nbformat": 4,
 "nbformat_minor": 2
}
